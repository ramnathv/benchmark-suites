{
  "nbformat": 4,
  "nbformat_minor": 0,
  "metadata": {
    "celltoolbar": "Slideshow",
    "colabVersion": "0.1",
    "kernelspec": {
      "display_name": "Python 3",
      "language": "python",
      "name": "python3"
    },
    "language_info": {
      "codemirror_mode": {
        "name": "ipython",
        "version": 3
      },
      "file_extension": ".py",
      "mimetype": "text/x-python",
      "name": "python",
      "nbconvert_exporter": "python",
      "pygments_lexer": "ipython3",
      "version": "3.5.0"
    },
    "colab": {
      "name": "OpenML Tutorial Python.ipynb",
      "provenance": [],
      "include_colab_link": true
    }
  },
  "cells": [
    {
      "cell_type": "markdown",
      "metadata": {
        "id": "view-in-github",
        "colab_type": "text"
      },
      "source": [
        "<a href=\"https://colab.research.google.com/github/ramnathv/benchmark-suites/blob/master/OpenML%20Tutorial%20Python%20-%20RV.ipynb\" target=\"_parent\"><img src=\"https://colab.research.google.com/assets/colab-badge.svg\" alt=\"Open In Colab\"/></a>"
      ]
    },
    {
      "cell_type": "markdown",
      "metadata": {
        "id": "dxlM9dysBghM",
        "colab_type": "text"
      },
      "source": [
        "# OpenML in Python \n",
        "Joaquin Vanschoren @joavanschoren"
      ]
    },
    {
      "cell_type": "markdown",
      "metadata": {
        "id": "If7lc319BghN",
        "colab_type": "text"
      },
      "source": [
        "## How to...\n",
        "- Download datasets and tasks in Python and Jupyter\n",
        "- Use scikit-learn to build classifiers\n",
        "- Upload the results to the server\n"
      ]
    },
    {
      "cell_type": "markdown",
      "metadata": {
        "id": "ucM7WbKCBghO",
        "colab_type": "text"
      },
      "source": [
        "# Setup"
      ]
    },
    {
      "cell_type": "markdown",
      "metadata": {
        "id": "c1QcRlgaBghO",
        "colab_type": "text"
      },
      "source": [
        "## Installation\n",
        "Via source"
      ]
    },
    {
      "cell_type": "code",
      "metadata": {
        "id": "LcLZfgHPBghP",
        "colab_type": "code",
        "colab": {}
      },
      "source": [
        "#! git clone https://github.com/openml/openml-python.\n",
        "#! cd openml-python\n",
        "#! python setup.py install"
      ],
      "execution_count": 0,
      "outputs": []
    },
    {
      "cell_type": "markdown",
      "metadata": {
        "collapsed": true,
        "id": "MychzXR8BghS",
        "colab_type": "text"
      },
      "source": [
        "## Authentication\n",
        "* Create an OpenML account on http://www.openml.org\n",
        "* Go to your OpenML account, click 'Account Settings', and then 'API authentication'. \n",
        "<center><img src=\"https://github.com/ramnathv/benchmark-suites/blob/master/images/openml_login.png?raw=1\" width=\"800\"></center>\n",
        "* Create a little file to store the API key locally: ~/.openml/config"
      ]
    },
    {
      "cell_type": "code",
      "metadata": {
        "id": "AuA985hMBghT",
        "colab_type": "code",
        "colab": {}
      },
      "source": [
        "apikey=FILL_IN_API_KEY\n",
        "cachedir=FILL_IN_CACHE_DIR"
      ],
      "execution_count": 0,
      "outputs": []
    },
    {
      "cell_type": "markdown",
      "metadata": {
        "id": "0zUNEb2DBghV",
        "colab_type": "text"
      },
      "source": [
        "## Alternative authentication"
      ]
    },
    {
      "cell_type": "code",
      "metadata": {
        "id": "8TyX25RcBghW",
        "colab_type": "code",
        "colab": {}
      },
      "source": [
        "!pip install openml -q\n",
        "import openml\n",
        "\n",
        "# assumes you have your api key in ~/.openml/config\n",
        "# amueller's read/write key that he will throw away later\n",
        "# openml.config.apikey='610344db6388d9ba34f6db45a3cf71de'\n",
        "# we also want to use the test server so as not to polute the production system\n",
        "openml.config.server = \"http://www.openml.org/api/v1/xml\""
      ],
      "execution_count": 0,
      "outputs": []
    },
    {
      "cell_type": "markdown",
      "metadata": {
        "id": "UkKLzfbrBghY",
        "colab_type": "text"
      },
      "source": [
        "# Data"
      ]
    },
    {
      "cell_type": "markdown",
      "metadata": {
        "id": "p-lKHkRrBghY",
        "colab_type": "text"
      },
      "source": [
        "## List ALL the datasets"
      ]
    },
    {
      "cell_type": "code",
      "metadata": {
        "id": "8ADAO8rqBghY",
        "colab_type": "code",
        "colab": {
          "base_uri": "https://localhost:8080/",
          "height": 376
        },
        "outputId": "2de2ce3f-f7f4-44eb-cbda-b714a77922ec"
      },
      "source": [
        "from openml import datasets, tasks, runs\n",
        "import numpy as np\n",
        "import pandas as pd\n",
        "import os\n",
        "\n",
        "datalist = datasets.list_datasets()\n",
        "\n",
        "data = pd.DataFrame(datalist).T\n",
        "print(\"First 10 of %s datasets...\" % len(datalist))\n",
        "data[:10][['did','name','NumberOfInstances','NumberOfFeatures']]"
      ],
      "execution_count": 7,
      "outputs": [
        {
          "output_type": "stream",
          "text": [
            "First 10 of 3087 datasets...\n"
          ],
          "name": "stdout"
        },
        {
          "output_type": "execute_result",
          "data": {
            "text/html": [
              "<div>\n",
              "<style scoped>\n",
              "    .dataframe tbody tr th:only-of-type {\n",
              "        vertical-align: middle;\n",
              "    }\n",
              "\n",
              "    .dataframe tbody tr th {\n",
              "        vertical-align: top;\n",
              "    }\n",
              "\n",
              "    .dataframe thead th {\n",
              "        text-align: right;\n",
              "    }\n",
              "</style>\n",
              "<table border=\"1\" class=\"dataframe\">\n",
              "  <thead>\n",
              "    <tr style=\"text-align: right;\">\n",
              "      <th></th>\n",
              "      <th>did</th>\n",
              "      <th>name</th>\n",
              "      <th>NumberOfInstances</th>\n",
              "      <th>NumberOfFeatures</th>\n",
              "    </tr>\n",
              "  </thead>\n",
              "  <tbody>\n",
              "    <tr>\n",
              "      <th>2</th>\n",
              "      <td>2</td>\n",
              "      <td>anneal</td>\n",
              "      <td>898</td>\n",
              "      <td>39</td>\n",
              "    </tr>\n",
              "    <tr>\n",
              "      <th>3</th>\n",
              "      <td>3</td>\n",
              "      <td>kr-vs-kp</td>\n",
              "      <td>3196</td>\n",
              "      <td>37</td>\n",
              "    </tr>\n",
              "    <tr>\n",
              "      <th>4</th>\n",
              "      <td>4</td>\n",
              "      <td>labor</td>\n",
              "      <td>57</td>\n",
              "      <td>17</td>\n",
              "    </tr>\n",
              "    <tr>\n",
              "      <th>5</th>\n",
              "      <td>5</td>\n",
              "      <td>arrhythmia</td>\n",
              "      <td>452</td>\n",
              "      <td>280</td>\n",
              "    </tr>\n",
              "    <tr>\n",
              "      <th>6</th>\n",
              "      <td>6</td>\n",
              "      <td>letter</td>\n",
              "      <td>20000</td>\n",
              "      <td>17</td>\n",
              "    </tr>\n",
              "    <tr>\n",
              "      <th>7</th>\n",
              "      <td>7</td>\n",
              "      <td>audiology</td>\n",
              "      <td>226</td>\n",
              "      <td>70</td>\n",
              "    </tr>\n",
              "    <tr>\n",
              "      <th>8</th>\n",
              "      <td>8</td>\n",
              "      <td>liver-disorders</td>\n",
              "      <td>345</td>\n",
              "      <td>6</td>\n",
              "    </tr>\n",
              "    <tr>\n",
              "      <th>9</th>\n",
              "      <td>9</td>\n",
              "      <td>autos</td>\n",
              "      <td>205</td>\n",
              "      <td>26</td>\n",
              "    </tr>\n",
              "    <tr>\n",
              "      <th>10</th>\n",
              "      <td>10</td>\n",
              "      <td>lymph</td>\n",
              "      <td>148</td>\n",
              "      <td>19</td>\n",
              "    </tr>\n",
              "    <tr>\n",
              "      <th>11</th>\n",
              "      <td>11</td>\n",
              "      <td>balance-scale</td>\n",
              "      <td>625</td>\n",
              "      <td>5</td>\n",
              "    </tr>\n",
              "  </tbody>\n",
              "</table>\n",
              "</div>"
            ],
            "text/plain": [
              "   did             name NumberOfInstances NumberOfFeatures\n",
              "2    2           anneal               898               39\n",
              "3    3         kr-vs-kp              3196               37\n",
              "4    4            labor                57               17\n",
              "5    5       arrhythmia               452              280\n",
              "6    6           letter             20000               17\n",
              "7    7        audiology               226               70\n",
              "8    8  liver-disorders               345                6\n",
              "9    9            autos               205               26\n",
              "10  10            lymph               148               19\n",
              "11  11    balance-scale               625                5"
            ]
          },
          "metadata": {
            "tags": []
          },
          "execution_count": 7
        }
      ]
    },
    {
      "cell_type": "markdown",
      "metadata": {
        "id": "LjJRvQBgBghb",
        "colab_type": "text"
      },
      "source": [
        "Subset based on any property"
      ]
    },
    {
      "cell_type": "code",
      "metadata": {
        "id": "MHv3dTaHBghc",
        "colab_type": "code",
        "colab": {
          "base_uri": "https://localhost:8080/",
          "height": 376
        },
        "outputId": "9b8b4fdd-5f2b-4b3a-c6d4-c48c31312561"
      },
      "source": [
        "bin_data = data.loc[data['NumberOfClasses'] == 2]\n",
        "print(\"First 10 of %s datasets...\" % len(bin_data))\n",
        "bin_data[:10][['did','name', 'NumberOfInstances','NumberOfFeatures']]"
      ],
      "execution_count": 9,
      "outputs": [
        {
          "output_type": "stream",
          "text": [
            "First 10 of 877 datasets...\n"
          ],
          "name": "stdout"
        },
        {
          "output_type": "execute_result",
          "data": {
            "text/html": [
              "<div>\n",
              "<style scoped>\n",
              "    .dataframe tbody tr th:only-of-type {\n",
              "        vertical-align: middle;\n",
              "    }\n",
              "\n",
              "    .dataframe tbody tr th {\n",
              "        vertical-align: top;\n",
              "    }\n",
              "\n",
              "    .dataframe thead th {\n",
              "        text-align: right;\n",
              "    }\n",
              "</style>\n",
              "<table border=\"1\" class=\"dataframe\">\n",
              "  <thead>\n",
              "    <tr style=\"text-align: right;\">\n",
              "      <th></th>\n",
              "      <th>did</th>\n",
              "      <th>name</th>\n",
              "      <th>NumberOfInstances</th>\n",
              "      <th>NumberOfFeatures</th>\n",
              "    </tr>\n",
              "  </thead>\n",
              "  <tbody>\n",
              "    <tr>\n",
              "      <th>3</th>\n",
              "      <td>3</td>\n",
              "      <td>kr-vs-kp</td>\n",
              "      <td>3196</td>\n",
              "      <td>37</td>\n",
              "    </tr>\n",
              "    <tr>\n",
              "      <th>4</th>\n",
              "      <td>4</td>\n",
              "      <td>labor</td>\n",
              "      <td>57</td>\n",
              "      <td>17</td>\n",
              "    </tr>\n",
              "    <tr>\n",
              "      <th>13</th>\n",
              "      <td>13</td>\n",
              "      <td>breast-cancer</td>\n",
              "      <td>286</td>\n",
              "      <td>10</td>\n",
              "    </tr>\n",
              "    <tr>\n",
              "      <th>15</th>\n",
              "      <td>15</td>\n",
              "      <td>breast-w</td>\n",
              "      <td>699</td>\n",
              "      <td>10</td>\n",
              "    </tr>\n",
              "    <tr>\n",
              "      <th>24</th>\n",
              "      <td>24</td>\n",
              "      <td>mushroom</td>\n",
              "      <td>8124</td>\n",
              "      <td>23</td>\n",
              "    </tr>\n",
              "    <tr>\n",
              "      <th>25</th>\n",
              "      <td>25</td>\n",
              "      <td>colic</td>\n",
              "      <td>368</td>\n",
              "      <td>27</td>\n",
              "    </tr>\n",
              "    <tr>\n",
              "      <th>27</th>\n",
              "      <td>27</td>\n",
              "      <td>colic</td>\n",
              "      <td>368</td>\n",
              "      <td>23</td>\n",
              "    </tr>\n",
              "    <tr>\n",
              "      <th>29</th>\n",
              "      <td>29</td>\n",
              "      <td>credit-approval</td>\n",
              "      <td>690</td>\n",
              "      <td>16</td>\n",
              "    </tr>\n",
              "    <tr>\n",
              "      <th>31</th>\n",
              "      <td>31</td>\n",
              "      <td>credit-g</td>\n",
              "      <td>1000</td>\n",
              "      <td>21</td>\n",
              "    </tr>\n",
              "    <tr>\n",
              "      <th>37</th>\n",
              "      <td>37</td>\n",
              "      <td>diabetes</td>\n",
              "      <td>768</td>\n",
              "      <td>9</td>\n",
              "    </tr>\n",
              "  </tbody>\n",
              "</table>\n",
              "</div>"
            ],
            "text/plain": [
              "   did             name NumberOfInstances NumberOfFeatures\n",
              "3    3         kr-vs-kp              3196               37\n",
              "4    4            labor                57               17\n",
              "13  13    breast-cancer               286               10\n",
              "15  15         breast-w               699               10\n",
              "24  24         mushroom              8124               23\n",
              "25  25            colic               368               27\n",
              "27  27            colic               368               23\n",
              "29  29  credit-approval               690               16\n",
              "31  31         credit-g              1000               21\n",
              "37  37         diabetes               768                9"
            ]
          },
          "metadata": {
            "tags": []
          },
          "execution_count": 9
        }
      ]
    },
    {
      "cell_type": "markdown",
      "metadata": {
        "id": "SVU16PjvBghf",
        "colab_type": "text"
      },
      "source": [
        "Subset based on any property"
      ]
    },
    {
      "cell_type": "code",
      "metadata": {
        "id": "MfApsW_8Bghf",
        "colab_type": "code",
        "colab": {
          "base_uri": "https://localhost:8080/",
          "height": 376
        },
        "outputId": "5b21d473-0235-49d5-f1ed-ccded09b2839"
      },
      "source": [
        "big_data = data.loc[data['NumberOfInstances'] > 60000]\n",
        "big_data = big_data.sort_values(by='NumberOfInstances', ascending=True)\n",
        "print(\"First 10 of %s datasets...\" % len(bin_data))\n",
        "big_data[:10][['did','name', 'NumberOfInstances']]"
      ],
      "execution_count": 10,
      "outputs": [
        {
          "output_type": "stream",
          "text": [
            "First 10 of 877 datasets...\n"
          ],
          "name": "stdout"
        },
        {
          "output_type": "execute_result",
          "data": {
            "text/html": [
              "<div>\n",
              "<style scoped>\n",
              "    .dataframe tbody tr th:only-of-type {\n",
              "        vertical-align: middle;\n",
              "    }\n",
              "\n",
              "    .dataframe tbody tr th {\n",
              "        vertical-align: top;\n",
              "    }\n",
              "\n",
              "    .dataframe thead th {\n",
              "        text-align: right;\n",
              "    }\n",
              "</style>\n",
              "<table border=\"1\" class=\"dataframe\">\n",
              "  <thead>\n",
              "    <tr style=\"text-align: right;\">\n",
              "      <th></th>\n",
              "      <th>did</th>\n",
              "      <th>name</th>\n",
              "      <th>NumberOfInstances</th>\n",
              "    </tr>\n",
              "  </thead>\n",
              "  <tbody>\n",
              "    <tr>\n",
              "      <th>41065</th>\n",
              "      <td>41065</td>\n",
              "      <td>mnist_rotation</td>\n",
              "      <td>62000</td>\n",
              "    </tr>\n",
              "    <tr>\n",
              "      <th>1588</th>\n",
              "      <td>1588</td>\n",
              "      <td>w8a</td>\n",
              "      <td>64700</td>\n",
              "    </tr>\n",
              "    <tr>\n",
              "      <th>41169</th>\n",
              "      <td>41169</td>\n",
              "      <td>helena</td>\n",
              "      <td>65196</td>\n",
              "    </tr>\n",
              "    <tr>\n",
              "      <th>41899</th>\n",
              "      <td>41899</td>\n",
              "      <td>MultilingualDS</td>\n",
              "      <td>65428</td>\n",
              "    </tr>\n",
              "    <tr>\n",
              "      <th>4533</th>\n",
              "      <td>4533</td>\n",
              "      <td>KEGGMetabolicReactionNetwork</td>\n",
              "      <td>65554</td>\n",
              "    </tr>\n",
              "    <tr>\n",
              "      <th>1591</th>\n",
              "      <td>1591</td>\n",
              "      <td>connect-4</td>\n",
              "      <td>67557</td>\n",
              "    </tr>\n",
              "    <tr>\n",
              "      <th>40668</th>\n",
              "      <td>40668</td>\n",
              "      <td>connect-4</td>\n",
              "      <td>67557</td>\n",
              "    </tr>\n",
              "    <tr>\n",
              "      <th>40996</th>\n",
              "      <td>40996</td>\n",
              "      <td>Fashion-MNIST</td>\n",
              "      <td>70000</td>\n",
              "    </tr>\n",
              "    <tr>\n",
              "      <th>41982</th>\n",
              "      <td>41982</td>\n",
              "      <td>Kuzushiji-MNIST</td>\n",
              "      <td>70000</td>\n",
              "    </tr>\n",
              "    <tr>\n",
              "      <th>554</th>\n",
              "      <td>554</td>\n",
              "      <td>mnist_784</td>\n",
              "      <td>70000</td>\n",
              "    </tr>\n",
              "  </tbody>\n",
              "</table>\n",
              "</div>"
            ],
            "text/plain": [
              "         did                          name NumberOfInstances\n",
              "41065  41065                mnist_rotation             62000\n",
              "1588    1588                           w8a             64700\n",
              "41169  41169                        helena             65196\n",
              "41899  41899                MultilingualDS             65428\n",
              "4533    4533  KEGGMetabolicReactionNetwork             65554\n",
              "1591    1591                     connect-4             67557\n",
              "40668  40668                     connect-4             67557\n",
              "40996  40996                 Fashion-MNIST             70000\n",
              "41982  41982               Kuzushiji-MNIST             70000\n",
              "554      554                     mnist_784             70000"
            ]
          },
          "metadata": {
            "tags": []
          },
          "execution_count": 10
        }
      ]
    },
    {
      "cell_type": "markdown",
      "metadata": {
        "id": "0z3a61UqBghh",
        "colab_type": "text"
      },
      "source": [
        "Download a specific dataset. This is done based on the dataset ID (called 'did' in the table above)."
      ]
    },
    {
      "cell_type": "code",
      "metadata": {
        "id": "NoOjqlEVBghh",
        "colab_type": "code",
        "colab": {
          "base_uri": "https://localhost:8080/",
          "height": 156
        },
        "outputId": "62fc6bca-a43a-413e-8b1f-0e518828714a"
      },
      "source": [
        "dataset = openml.datasets.get_dataset(23512)\n",
        "\n",
        "print(\"This is dataset '%s', the target feature is called '%s'\" % (dataset.name, dataset.default_target_attribute))\n",
        "print(\"URL: %s\" % dataset.url)\n",
        "print(dataset.description[:500])"
      ],
      "execution_count": 11,
      "outputs": [
        {
          "output_type": "stream",
          "text": [
            "This is dataset 'higgs', the target feature is called 'class'\n",
            "URL: https://www.openml.org/data/v1/download/2063675/higgs.arff\n",
            "**Author**: Daniel Whiteson, University of California Irvine  \n",
            "**Source**: [UCI](https://archive.ics.uci.edu/ml/datasets/HIGGS)  \n",
            "**Please cite**: Baldi, P., P. Sadowski, and D. Whiteson. Searching for Exotic Particles in High-energy Physics with Deep Learning. Nature Communications 5 (July 2, 2014).  \n",
            "\n",
            "**Higgs Boson detection data**. The data has been produced using Monte Carlo simulations. The first 21 features (columns 2-22) are kinematic properties measured by the particle detectors in the a\n"
          ],
          "name": "stdout"
        }
      ]
    },
    {
      "cell_type": "code",
      "metadata": {
        "id": "4pthFIy_CVrM",
        "colab_type": "code",
        "colab": {
          "base_uri": "https://localhost:8080/",
          "height": 373
        },
        "outputId": "1999ed2f-1d82-4e17-ee98-627b979eb7a5"
      },
      "source": [
        "from IPython.display import display, Markdown, Latex\n",
        "display(Markdown(dataset.description))"
      ],
      "execution_count": 13,
      "outputs": [
        {
          "output_type": "display_data",
          "data": {
            "text/markdown": "**Author**: Daniel Whiteson, University of California Irvine  \n**Source**: [UCI](https://archive.ics.uci.edu/ml/datasets/HIGGS)  \n**Please cite**: Baldi, P., P. Sadowski, and D. Whiteson. Searching for Exotic Particles in High-energy Physics with Deep Learning. Nature Communications 5 (July 2, 2014).  \n\n**Higgs Boson detection data**. The data has been produced using Monte Carlo simulations. The first 21 features (columns 2-22) are kinematic properties measured by the particle detectors in the accelerator. The last seven features are functions of the first 21 features; these are high-level features derived by physicists to help discriminate between the two classes. There is an interest in using deep learning methods to obviate the need for physicists to manually develop such features. The last 500,000 examples are used as a test set.\n\n**Note: This is the UCI Higgs dataset, same as version 1, but it fixes the definition of the class attribute, which is categorical, not numeric.**\n\n\n### Attribute Information\n* The first column is the class label (1 for signal, 0 for background)\n* 21 low-level features (kinematic properties): lepton pT, lepton eta, lepton phi, missing energy magnitude, missing energy phi, jet 1 pt, jet 1 eta, jet 1 phi, jet 1 b-tag, jet 2 pt, jet 2 eta, jet 2 phi, jet 2 b-tag, jet 3 pt, jet 3 eta, jet 3 phi, jet 3 b-tag, jet 4 pt, jet 4 eta, jet 4 phi, jet 4 b-tag\n* 7 high-level features derived by physicists: m_jj, m_jjj, m_lv, m_jlv, m_bb, m_wbb, m_wwbb. \n\nFor more detailed information about each feature see the original paper.\n\nRelevant Papers:\n\nBaldi, P., P. Sadowski, and D. Whiteson. Searching for Exotic Particles in High-energy Physics with Deep Learning. Nature Communications 5 (July 2, 2014).",
            "text/plain": [
              "<IPython.core.display.Markdown object>"
            ]
          },
          "metadata": {
            "tags": []
          }
        }
      ]
    },
    {
      "cell_type": "code",
      "metadata": {
        "id": "qK6h7UQjBghj",
        "colab_type": "code",
        "colab": {
          "base_uri": "https://localhost:8080/",
          "height": 1000
        },
        "outputId": "a66d4fa2-4259-4cfc-ff32-3490f7bffb70"
      },
      "source": [
        "from pprint import pprint\n",
        "pprint(vars(dataset))"
      ],
      "execution_count": 14,
      "outputs": [
        {
          "output_type": "stream",
          "text": [
            "{'_dataset': None,\n",
            " 'citation': None,\n",
            " 'collection_date': None,\n",
            " 'contributor': None,\n",
            " 'creator': None,\n",
            " 'data_file': '/root/.openml/cache/org/openml/www/datasets/23512/dataset.arff',\n",
            " 'data_pickle_file': '/root/.openml/cache/org/openml/www/datasets/23512/dataset.pkl.py3',\n",
            " 'dataset_id': 23512,\n",
            " 'default_target_attribute': 'class',\n",
            " 'description': '**Author**: Daniel Whiteson, University of California '\n",
            "                'Irvine  \\n'\n",
            "                '**Source**: '\n",
            "                '[UCI](https://archive.ics.uci.edu/ml/datasets/HIGGS)  \\n'\n",
            "                '**Please cite**: Baldi, P., P. Sadowski, and D. Whiteson. '\n",
            "                'Searching for Exotic Particles in High-energy Physics with '\n",
            "                'Deep Learning. Nature Communications 5 (July 2, 2014).  \\n'\n",
            "                '\\n'\n",
            "                '**Higgs Boson detection data**. The data has been produced '\n",
            "                'using Monte Carlo simulations. The first 21 features (columns '\n",
            "                '2-22) are kinematic properties measured by the particle '\n",
            "                'detectors in the accelerator. The last seven features are '\n",
            "                'functions of the first 21 features; these are high-level '\n",
            "                'features derived by physicists to help discriminate between '\n",
            "                'the two classes. There is an interest in using deep learning '\n",
            "                'methods to obviate the need for physicists to manually '\n",
            "                'develop such features. The last 500,000 examples are used as '\n",
            "                'a test set.\\n'\n",
            "                '\\n'\n",
            "                '**Note: This is the UCI Higgs dataset, same as version 1, but '\n",
            "                'it fixes the definition of the class attribute, which is '\n",
            "                'categorical, not numeric.**\\n'\n",
            "                '\\n'\n",
            "                '\\n'\n",
            "                '### Attribute Information\\n'\n",
            "                '* The first column is the class label (1 for signal, 0 for '\n",
            "                'background)\\n'\n",
            "                '* 21 low-level features (kinematic properties): lepton pT, '\n",
            "                'lepton eta, lepton phi, missing energy magnitude, missing '\n",
            "                'energy phi, jet 1 pt, jet 1 eta, jet 1 phi, jet 1 b-tag, jet '\n",
            "                '2 pt, jet 2 eta, jet 2 phi, jet 2 b-tag, jet 3 pt, jet 3 eta, '\n",
            "                'jet 3 phi, jet 3 b-tag, jet 4 pt, jet 4 eta, jet 4 phi, jet 4 '\n",
            "                'b-tag\\n'\n",
            "                '* 7 high-level features derived by physicists: m_jj, m_jjj, '\n",
            "                'm_lv, m_jlv, m_bb, m_wbb, m_wwbb. \\n'\n",
            "                '\\n'\n",
            "                'For more detailed information about each feature see the '\n",
            "                'original paper.\\n'\n",
            "                '\\n'\n",
            "                'Relevant Papers:\\n'\n",
            "                '\\n'\n",
            "                'Baldi, P., P. Sadowski, and D. Whiteson. Searching for Exotic '\n",
            "                'Particles in High-energy Physics with Deep Learning. Nature '\n",
            "                'Communications 5 (July 2, 2014).',\n",
            " 'features': {0: [0 - class (nominal)],\n",
            "              1: [1 - lepton_pT (numeric)],\n",
            "              2: [2 - lepton_eta (numeric)],\n",
            "              3: [3 - lepton_phi (numeric)],\n",
            "              4: [4 - missing_energy_magnitude (numeric)],\n",
            "              5: [5 - missing_energy_phi (numeric)],\n",
            "              6: [6 - jet1pt (numeric)],\n",
            "              7: [7 - jet1eta (numeric)],\n",
            "              8: [8 - jet1phi (numeric)],\n",
            "              9: [9 - jet1b-tag (numeric)],\n",
            "              10: [10 - jet2pt (numeric)],\n",
            "              11: [11 - jet2eta (numeric)],\n",
            "              12: [12 - jet2phi (numeric)],\n",
            "              13: [13 - jet2b-tag (numeric)],\n",
            "              14: [14 - jet3pt (numeric)],\n",
            "              15: [15 - jet3eta (numeric)],\n",
            "              16: [16 - jet3phi (numeric)],\n",
            "              17: [17 - jet3b-tag (numeric)],\n",
            "              18: [18 - jet4pt (numeric)],\n",
            "              19: [19 - jet4eta (numeric)],\n",
            "              20: [20 - jet4phi (numeric)],\n",
            "              21: [21 - jet4b-tag (numeric)],\n",
            "              22: [22 - m_jj (numeric)],\n",
            "              23: [23 - m_jjj (numeric)],\n",
            "              24: [24 - m_lv (numeric)],\n",
            "              25: [25 - m_jlv (numeric)],\n",
            "              26: [26 - m_bb (numeric)],\n",
            "              27: [27 - m_wbb (numeric)],\n",
            "              28: [28 - m_wwbb (numeric)]},\n",
            " 'format': 'ARFF',\n",
            " 'ignore_attribute': None,\n",
            " 'language': None,\n",
            " 'licence': 'Public',\n",
            " 'md5_checksum': '1a216f3bb3f6a961b4023179fca78452',\n",
            " 'name': 'higgs',\n",
            " 'original_data_url': None,\n",
            " 'paper_url': None,\n",
            " 'qualities': {'AutoCorrelation': 0.5012085793837775,\n",
            "               'ClassEntropy': 0.9976423339342788,\n",
            "               'Dimensionality': 0.00029576746557878636,\n",
            "               'EquivalentNumberOfAtts': nan,\n",
            "               'MajorityClassPercentage': 52.85772565017848,\n",
            "               'MajorityClassSize': 51827.0,\n",
            "               'MaxAttributeEntropy': nan,\n",
            "               'MaxKurtosisOfNumericAtts': 63.889738287879354,\n",
            "               'MaxMeansOfNumericAtts': 1.0501287597024396,\n",
            "               'MaxMutualInformation': nan,\n",
            "               'MaxNominalAttDistinctValues': 2.0,\n",
            "               'MaxSkewnessOfNumericAtts': 5.981690289185084,\n",
            "               'MaxStdDevOfNumericAtts': 1.3968091904244635,\n",
            "               'MeanAttributeEntropy': nan,\n",
            "               'MeanKurtosisOfNumericAtts': 7.897868562324222,\n",
            "               'MeanMeansOfNumericAtts': 0.6073695187399869,\n",
            "               'MeanMutualInformation': nan,\n",
            "               'MeanNoiseToSignalRatio': nan,\n",
            "               'MeanNominalAttDistinctValues': 2.0,\n",
            "               'MeanSkewnessOfNumericAtts': 1.3574091204635736,\n",
            "               'MeanStdDevOfNumericAtts': 0.7734372841717916,\n",
            "               'MinAttributeEntropy': nan,\n",
            "               'MinKurtosisOfNumericAtts': -1.8618527812710703,\n",
            "               'MinMeansOfNumericAtts': -0.007896418321767898,\n",
            "               'MinMutualInformation': nan,\n",
            "               'MinNominalAttDistinctValues': 2.0,\n",
            "               'MinSkewnessOfNumericAtts': -0.005582304821509899,\n",
            "               'MinStdDevOfNumericAtts': 0.16456533466462578,\n",
            "               'MinorityClassPercentage': 47.14227434982152,\n",
            "               'MinorityClassSize': 46223.0,\n",
            "               'NumberOfBinaryFeatures': 1.0,\n",
            "               'NumberOfClasses': 2.0,\n",
            "               'NumberOfFeatures': 29.0,\n",
            "               'NumberOfInstances': 98050.0,\n",
            "               'NumberOfInstancesWithMissingValues': 1.0,\n",
            "               'NumberOfMissingValues': 9.0,\n",
            "               'NumberOfNumericFeatures': 28.0,\n",
            "               'NumberOfSymbolicFeatures': 1.0,\n",
            "               'PercentageOfBinaryFeatures': 3.4482758620689653,\n",
            "               'PercentageOfInstancesWithMissingValues': 0.0010198878123406426,\n",
            "               'PercentageOfMissingValues': 0.0003165169072781304,\n",
            "               'PercentageOfNumericFeatures': 96.55172413793103,\n",
            "               'PercentageOfSymbolicFeatures': 3.4482758620689653,\n",
            "               'Quartile1AttributeEntropy': nan,\n",
            "               'Quartile1KurtosisOfNumericAtts': -1.2011141288244025,\n",
            "               'Quartile1MeansOfNumericAtts': -0.00024107026685333605,\n",
            "               'Quartile1MutualInformation': nan,\n",
            "               'Quartile1SkewnessOfNumericAtts': 0.0016372995206194716,\n",
            "               'Quartile1StdDevOfNumericAtts': 0.49075678522081984,\n",
            "               'Quartile2AttributeEntropy': nan,\n",
            "               'Quartile2KurtosisOfNumericAtts': -0.026568040146459415,\n",
            "               'Quartile2MeansOfNumericAtts': 0.9864974774019043,\n",
            "               'Quartile2MutualInformation': nan,\n",
            "               'Quartile2SkewnessOfNumericAtts': 0.5998566551326563,\n",
            "               'Quartile2StdDevOfNumericAtts': 1.0047700404855044,\n",
            "               'Quartile3AttributeEntropy': nan,\n",
            "               'Quartile3KurtosisOfNumericAtts': 11.233955227411903,\n",
            "               'Quartile3MeansOfNumericAtts': 1.0026634234089684,\n",
            "               'Quartile3MutualInformation': nan,\n",
            "               'Quartile3SkewnessOfNumericAtts': 2.2951169764631905,\n",
            "               'Quartile3StdDevOfNumericAtts': 1.0085998580390358,\n",
            "               'StdvNominalAttDistinctValues': 0.0},\n",
            " 'row_id_attribute': None,\n",
            " 'tag': ['artificial',\n",
            "         'derived',\n",
            "         'mf_less_than_80',\n",
            "         'OpenML100',\n",
            "         'physics',\n",
            "         'study_123',\n",
            "         'study_218',\n",
            "         'uci'],\n",
            " 'update_comment': None,\n",
            " 'upload_date': '2016-06-21T15:03:06',\n",
            " 'url': 'https://www.openml.org/data/v1/download/2063675/higgs.arff',\n",
            " 'version': 2,\n",
            " 'version_label': None,\n",
            " 'visibility': 'public'}\n"
          ],
          "name": "stdout"
        }
      ]
    },
    {
      "cell_type": "markdown",
      "metadata": {
        "id": "OwfRk12jBghl",
        "colab_type": "text"
      },
      "source": [
        "Get the actual data"
      ]
    },
    {
      "cell_type": "code",
      "metadata": {
        "id": "Mw2m9ufpDJSf",
        "colab_type": "code",
        "colab": {
          "base_uri": "https://localhost:8080/",
          "height": 34
        },
        "outputId": "70199f8b-403a-4ea6-ba1b-751efb30066d"
      },
      "source": [
        "d = dataset.get_data(target=dataset.default_target_attribute)\n",
        "d[3]"
      ],
      "execution_count": 36,
      "outputs": [
        {
          "output_type": "execute_result",
          "data": {
            "text/plain": [
              "['sepallength', 'sepalwidth', 'petallength', 'petalwidth']"
            ]
          },
          "metadata": {
            "tags": []
          },
          "execution_count": 36
        }
      ]
    },
    {
      "cell_type": "code",
      "metadata": {
        "id": "UmrSXwg1Bghm",
        "colab_type": "code",
        "colab": {
          "base_uri": "https://localhost:8080/",
          "height": 215
        },
        "outputId": "bd43d08f-d427-4f69-8b20-d9be5fcea6e9"
      },
      "source": [
        "X, y = dataset.get_data(target=dataset.default_target_attribute)\n",
        "iris = pd.DataFrame(X, columns=attribute_names)\n",
        "iris['class'] = y\n",
        "print(iris[:10])"
      ],
      "execution_count": 22,
      "outputs": [
        {
          "output_type": "error",
          "ename": "ValueError",
          "evalue": "ignored",
          "traceback": [
            "\u001b[0;31m---------------------------------------------------------------------------\u001b[0m",
            "\u001b[0;31mValueError\u001b[0m                                Traceback (most recent call last)",
            "\u001b[0;32m<ipython-input-22-44d8d8ac1f59>\u001b[0m in \u001b[0;36m<module>\u001b[0;34m()\u001b[0m\n\u001b[0;32m----> 1\u001b[0;31m \u001b[0mX\u001b[0m\u001b[0;34m,\u001b[0m \u001b[0my\u001b[0m \u001b[0;34m=\u001b[0m \u001b[0mdataset\u001b[0m\u001b[0;34m.\u001b[0m\u001b[0mget_data\u001b[0m\u001b[0;34m(\u001b[0m\u001b[0;34m)\u001b[0m\u001b[0;34m\u001b[0m\u001b[0;34m\u001b[0m\u001b[0m\n\u001b[0m\u001b[1;32m      2\u001b[0m \u001b[0miris\u001b[0m \u001b[0;34m=\u001b[0m \u001b[0mpd\u001b[0m\u001b[0;34m.\u001b[0m\u001b[0mDataFrame\u001b[0m\u001b[0;34m(\u001b[0m\u001b[0mX\u001b[0m\u001b[0;34m,\u001b[0m \u001b[0mcolumns\u001b[0m\u001b[0;34m=\u001b[0m\u001b[0mattribute_names\u001b[0m\u001b[0;34m)\u001b[0m\u001b[0;34m\u001b[0m\u001b[0;34m\u001b[0m\u001b[0m\n\u001b[1;32m      3\u001b[0m \u001b[0miris\u001b[0m\u001b[0;34m[\u001b[0m\u001b[0;34m'class'\u001b[0m\u001b[0;34m]\u001b[0m \u001b[0;34m=\u001b[0m \u001b[0my\u001b[0m\u001b[0;34m\u001b[0m\u001b[0;34m\u001b[0m\u001b[0m\n\u001b[1;32m      4\u001b[0m \u001b[0mprint\u001b[0m\u001b[0;34m(\u001b[0m\u001b[0miris\u001b[0m\u001b[0;34m[\u001b[0m\u001b[0;34m:\u001b[0m\u001b[0;36m10\u001b[0m\u001b[0;34m]\u001b[0m\u001b[0;34m)\u001b[0m\u001b[0;34m\u001b[0m\u001b[0;34m\u001b[0m\u001b[0m\n",
            "\u001b[0;31mValueError\u001b[0m: too many values to unpack (expected 2)"
          ]
        }
      ]
    },
    {
      "cell_type": "markdown",
      "metadata": {
        "id": "VoyhE6YvBgho",
        "colab_type": "text"
      },
      "source": [
        "Train a scikit-learn model on the data"
      ]
    },
    {
      "cell_type": "code",
      "metadata": {
        "id": "XO7AZD60Bgho",
        "colab_type": "code",
        "colab": {
          "base_uri": "https://localhost:8080/",
          "height": 153
        },
        "outputId": "349a6f65-0c0d-494a-eeef-2abf71d0641a"
      },
      "source": [
        "from sklearn import preprocessing, ensemble\n",
        "\n",
        "dataset = datasets.get_dataset(61)\n",
        "X, y, _, _ = dataset.get_data(target=dataset.default_target_attribute)\n",
        "clf = ensemble.RandomForestClassifier()\n",
        "clf.fit(X, y)"
      ],
      "execution_count": 37,
      "outputs": [
        {
          "output_type": "execute_result",
          "data": {
            "text/plain": [
              "RandomForestClassifier(bootstrap=True, ccp_alpha=0.0, class_weight=None,\n",
              "                       criterion='gini', max_depth=None, max_features='auto',\n",
              "                       max_leaf_nodes=None, max_samples=None,\n",
              "                       min_impurity_decrease=0.0, min_impurity_split=None,\n",
              "                       min_samples_leaf=1, min_samples_split=2,\n",
              "                       min_weight_fraction_leaf=0.0, n_estimators=100,\n",
              "                       n_jobs=None, oob_score=False, random_state=None,\n",
              "                       verbose=0, warm_start=False)"
            ]
          },
          "metadata": {
            "tags": []
          },
          "execution_count": 37
        }
      ]
    },
    {
      "cell_type": "markdown",
      "metadata": {
        "id": "lC8px2YMBghr",
        "colab_type": "text"
      },
      "source": [
        "You can also ask which features are categorical to do your own encoding"
      ]
    },
    {
      "cell_type": "code",
      "metadata": {
        "id": "n57Nt4fsD8BJ",
        "colab_type": "code",
        "colab": {
          "base_uri": "https://localhost:8080/",
          "height": 419
        },
        "outputId": "a7f23352-bad0-4dd9-dae2-6c32a42517dc"
      },
      "source": [
        "X"
      ],
      "execution_count": 44,
      "outputs": [
        {
          "output_type": "execute_result",
          "data": {
            "text/html": [
              "<div>\n",
              "<style scoped>\n",
              "    .dataframe tbody tr th:only-of-type {\n",
              "        vertical-align: middle;\n",
              "    }\n",
              "\n",
              "    .dataframe tbody tr th {\n",
              "        vertical-align: top;\n",
              "    }\n",
              "\n",
              "    .dataframe thead th {\n",
              "        text-align: right;\n",
              "    }\n",
              "</style>\n",
              "<table border=\"1\" class=\"dataframe\">\n",
              "  <thead>\n",
              "    <tr style=\"text-align: right;\">\n",
              "      <th></th>\n",
              "      <th>sepallength</th>\n",
              "      <th>sepalwidth</th>\n",
              "      <th>petallength</th>\n",
              "      <th>petalwidth</th>\n",
              "    </tr>\n",
              "  </thead>\n",
              "  <tbody>\n",
              "    <tr>\n",
              "      <th>0</th>\n",
              "      <td>5.1</td>\n",
              "      <td>3.5</td>\n",
              "      <td>1.4</td>\n",
              "      <td>0.2</td>\n",
              "    </tr>\n",
              "    <tr>\n",
              "      <th>1</th>\n",
              "      <td>4.9</td>\n",
              "      <td>3.0</td>\n",
              "      <td>1.4</td>\n",
              "      <td>0.2</td>\n",
              "    </tr>\n",
              "    <tr>\n",
              "      <th>2</th>\n",
              "      <td>4.7</td>\n",
              "      <td>3.2</td>\n",
              "      <td>1.3</td>\n",
              "      <td>0.2</td>\n",
              "    </tr>\n",
              "    <tr>\n",
              "      <th>3</th>\n",
              "      <td>4.6</td>\n",
              "      <td>3.1</td>\n",
              "      <td>1.5</td>\n",
              "      <td>0.2</td>\n",
              "    </tr>\n",
              "    <tr>\n",
              "      <th>4</th>\n",
              "      <td>5.0</td>\n",
              "      <td>3.6</td>\n",
              "      <td>1.4</td>\n",
              "      <td>0.2</td>\n",
              "    </tr>\n",
              "    <tr>\n",
              "      <th>...</th>\n",
              "      <td>...</td>\n",
              "      <td>...</td>\n",
              "      <td>...</td>\n",
              "      <td>...</td>\n",
              "    </tr>\n",
              "    <tr>\n",
              "      <th>145</th>\n",
              "      <td>6.7</td>\n",
              "      <td>3.0</td>\n",
              "      <td>5.2</td>\n",
              "      <td>2.3</td>\n",
              "    </tr>\n",
              "    <tr>\n",
              "      <th>146</th>\n",
              "      <td>6.3</td>\n",
              "      <td>2.5</td>\n",
              "      <td>5.0</td>\n",
              "      <td>1.9</td>\n",
              "    </tr>\n",
              "    <tr>\n",
              "      <th>147</th>\n",
              "      <td>6.5</td>\n",
              "      <td>3.0</td>\n",
              "      <td>5.2</td>\n",
              "      <td>2.0</td>\n",
              "    </tr>\n",
              "    <tr>\n",
              "      <th>148</th>\n",
              "      <td>6.2</td>\n",
              "      <td>3.4</td>\n",
              "      <td>5.4</td>\n",
              "      <td>2.3</td>\n",
              "    </tr>\n",
              "    <tr>\n",
              "      <th>149</th>\n",
              "      <td>5.9</td>\n",
              "      <td>3.0</td>\n",
              "      <td>5.1</td>\n",
              "      <td>1.8</td>\n",
              "    </tr>\n",
              "  </tbody>\n",
              "</table>\n",
              "<p>150 rows × 4 columns</p>\n",
              "</div>"
            ],
            "text/plain": [
              "     sepallength  sepalwidth  petallength  petalwidth\n",
              "0            5.1         3.5          1.4         0.2\n",
              "1            4.9         3.0          1.4         0.2\n",
              "2            4.7         3.2          1.3         0.2\n",
              "3            4.6         3.1          1.5         0.2\n",
              "4            5.0         3.6          1.4         0.2\n",
              "..           ...         ...          ...         ...\n",
              "145          6.7         3.0          5.2         2.3\n",
              "146          6.3         2.5          5.0         1.9\n",
              "147          6.5         3.0          5.2         2.0\n",
              "148          6.2         3.4          5.4         2.3\n",
              "149          5.9         3.0          5.1         1.8\n",
              "\n",
              "[150 rows x 4 columns]"
            ]
          },
          "metadata": {
            "tags": []
          },
          "execution_count": 44
        }
      ]
    },
    {
      "cell_type": "code",
      "metadata": {
        "id": "a5M3ZjFZBghr",
        "colab_type": "code",
        "colab": {
          "base_uri": "https://localhost:8080/",
          "height": 358
        },
        "outputId": "fcdde3c9-8b78-405f-b2bc-b38f769e8cd6"
      },
      "source": [
        "X, y, _, categories = dataset.get_data(target=dataset.default_target_attribute)\n",
        "enc = preprocessing.OneHotEncoder(categories=categories)\n",
        "X = enc.fit_transform(X)\n",
        "clf.fit(X, y)"
      ],
      "execution_count": 45,
      "outputs": [
        {
          "output_type": "error",
          "ename": "ValueError",
          "evalue": "ignored",
          "traceback": [
            "\u001b[0;31m---------------------------------------------------------------------------\u001b[0m",
            "\u001b[0;31mValueError\u001b[0m                                Traceback (most recent call last)",
            "\u001b[0;32m<ipython-input-45-d0fe9f4d9790>\u001b[0m in \u001b[0;36m<module>\u001b[0;34m()\u001b[0m\n\u001b[1;32m      1\u001b[0m \u001b[0mX\u001b[0m\u001b[0;34m,\u001b[0m \u001b[0my\u001b[0m\u001b[0;34m,\u001b[0m \u001b[0m_\u001b[0m\u001b[0;34m,\u001b[0m \u001b[0mcategories\u001b[0m \u001b[0;34m=\u001b[0m \u001b[0mdataset\u001b[0m\u001b[0;34m.\u001b[0m\u001b[0mget_data\u001b[0m\u001b[0;34m(\u001b[0m\u001b[0mtarget\u001b[0m\u001b[0;34m=\u001b[0m\u001b[0mdataset\u001b[0m\u001b[0;34m.\u001b[0m\u001b[0mdefault_target_attribute\u001b[0m\u001b[0;34m)\u001b[0m\u001b[0;34m\u001b[0m\u001b[0;34m\u001b[0m\u001b[0m\n\u001b[1;32m      2\u001b[0m \u001b[0menc\u001b[0m \u001b[0;34m=\u001b[0m \u001b[0mpreprocessing\u001b[0m\u001b[0;34m.\u001b[0m\u001b[0mOneHotEncoder\u001b[0m\u001b[0;34m(\u001b[0m\u001b[0mcategories\u001b[0m\u001b[0;34m=\u001b[0m\u001b[0mcategories\u001b[0m\u001b[0;34m)\u001b[0m\u001b[0;34m\u001b[0m\u001b[0;34m\u001b[0m\u001b[0m\n\u001b[0;32m----> 3\u001b[0;31m \u001b[0mX\u001b[0m \u001b[0;34m=\u001b[0m \u001b[0menc\u001b[0m\u001b[0;34m.\u001b[0m\u001b[0mfit_transform\u001b[0m\u001b[0;34m(\u001b[0m\u001b[0mX\u001b[0m\u001b[0;34m)\u001b[0m\u001b[0;34m\u001b[0m\u001b[0;34m\u001b[0m\u001b[0m\n\u001b[0m\u001b[1;32m      4\u001b[0m \u001b[0mclf\u001b[0m\u001b[0;34m.\u001b[0m\u001b[0mfit\u001b[0m\u001b[0;34m(\u001b[0m\u001b[0mX\u001b[0m\u001b[0;34m,\u001b[0m \u001b[0my\u001b[0m\u001b[0;34m)\u001b[0m\u001b[0;34m\u001b[0m\u001b[0;34m\u001b[0m\u001b[0m\n",
            "\u001b[0;32m/usr/local/lib/python3.6/dist-packages/sklearn/preprocessing/_encoders.py\u001b[0m in \u001b[0;36mfit_transform\u001b[0;34m(self, X, y)\u001b[0m\n\u001b[1;32m    370\u001b[0m         \"\"\"\n\u001b[1;32m    371\u001b[0m         \u001b[0mself\u001b[0m\u001b[0;34m.\u001b[0m\u001b[0m_validate_keywords\u001b[0m\u001b[0;34m(\u001b[0m\u001b[0;34m)\u001b[0m\u001b[0;34m\u001b[0m\u001b[0;34m\u001b[0m\u001b[0m\n\u001b[0;32m--> 372\u001b[0;31m         \u001b[0;32mreturn\u001b[0m \u001b[0msuper\u001b[0m\u001b[0;34m(\u001b[0m\u001b[0;34m)\u001b[0m\u001b[0;34m.\u001b[0m\u001b[0mfit_transform\u001b[0m\u001b[0;34m(\u001b[0m\u001b[0mX\u001b[0m\u001b[0;34m,\u001b[0m \u001b[0my\u001b[0m\u001b[0;34m)\u001b[0m\u001b[0;34m\u001b[0m\u001b[0;34m\u001b[0m\u001b[0m\n\u001b[0m\u001b[1;32m    373\u001b[0m \u001b[0;34m\u001b[0m\u001b[0m\n\u001b[1;32m    374\u001b[0m     \u001b[0;32mdef\u001b[0m \u001b[0mtransform\u001b[0m\u001b[0;34m(\u001b[0m\u001b[0mself\u001b[0m\u001b[0;34m,\u001b[0m \u001b[0mX\u001b[0m\u001b[0;34m)\u001b[0m\u001b[0;34m:\u001b[0m\u001b[0;34m\u001b[0m\u001b[0;34m\u001b[0m\u001b[0m\n",
            "\u001b[0;32m/usr/local/lib/python3.6/dist-packages/sklearn/base.py\u001b[0m in \u001b[0;36mfit_transform\u001b[0;34m(self, X, y, **fit_params)\u001b[0m\n\u001b[1;32m    569\u001b[0m         \u001b[0;32mif\u001b[0m \u001b[0my\u001b[0m \u001b[0;32mis\u001b[0m \u001b[0;32mNone\u001b[0m\u001b[0;34m:\u001b[0m\u001b[0;34m\u001b[0m\u001b[0;34m\u001b[0m\u001b[0m\n\u001b[1;32m    570\u001b[0m             \u001b[0;31m# fit method of arity 1 (unsupervised transformation)\u001b[0m\u001b[0;34m\u001b[0m\u001b[0;34m\u001b[0m\u001b[0;34m\u001b[0m\u001b[0m\n\u001b[0;32m--> 571\u001b[0;31m             \u001b[0;32mreturn\u001b[0m \u001b[0mself\u001b[0m\u001b[0;34m.\u001b[0m\u001b[0mfit\u001b[0m\u001b[0;34m(\u001b[0m\u001b[0mX\u001b[0m\u001b[0;34m,\u001b[0m \u001b[0;34m**\u001b[0m\u001b[0mfit_params\u001b[0m\u001b[0;34m)\u001b[0m\u001b[0;34m.\u001b[0m\u001b[0mtransform\u001b[0m\u001b[0;34m(\u001b[0m\u001b[0mX\u001b[0m\u001b[0;34m)\u001b[0m\u001b[0;34m\u001b[0m\u001b[0;34m\u001b[0m\u001b[0m\n\u001b[0m\u001b[1;32m    572\u001b[0m         \u001b[0;32melse\u001b[0m\u001b[0;34m:\u001b[0m\u001b[0;34m\u001b[0m\u001b[0;34m\u001b[0m\u001b[0m\n\u001b[1;32m    573\u001b[0m             \u001b[0;31m# fit method of arity 2 (supervised transformation)\u001b[0m\u001b[0;34m\u001b[0m\u001b[0;34m\u001b[0m\u001b[0;34m\u001b[0m\u001b[0m\n",
            "\u001b[0;32m/usr/local/lib/python3.6/dist-packages/sklearn/preprocessing/_encoders.py\u001b[0m in \u001b[0;36mfit\u001b[0;34m(self, X, y)\u001b[0m\n\u001b[1;32m    345\u001b[0m         \"\"\"\n\u001b[1;32m    346\u001b[0m         \u001b[0mself\u001b[0m\u001b[0;34m.\u001b[0m\u001b[0m_validate_keywords\u001b[0m\u001b[0;34m(\u001b[0m\u001b[0;34m)\u001b[0m\u001b[0;34m\u001b[0m\u001b[0;34m\u001b[0m\u001b[0m\n\u001b[0;32m--> 347\u001b[0;31m         \u001b[0mself\u001b[0m\u001b[0;34m.\u001b[0m\u001b[0m_fit\u001b[0m\u001b[0;34m(\u001b[0m\u001b[0mX\u001b[0m\u001b[0;34m,\u001b[0m \u001b[0mhandle_unknown\u001b[0m\u001b[0;34m=\u001b[0m\u001b[0mself\u001b[0m\u001b[0;34m.\u001b[0m\u001b[0mhandle_unknown\u001b[0m\u001b[0;34m)\u001b[0m\u001b[0;34m\u001b[0m\u001b[0;34m\u001b[0m\u001b[0m\n\u001b[0m\u001b[1;32m    348\u001b[0m         \u001b[0mself\u001b[0m\u001b[0;34m.\u001b[0m\u001b[0mdrop_idx_\u001b[0m \u001b[0;34m=\u001b[0m \u001b[0mself\u001b[0m\u001b[0;34m.\u001b[0m\u001b[0m_compute_drop_idx\u001b[0m\u001b[0;34m(\u001b[0m\u001b[0;34m)\u001b[0m\u001b[0;34m\u001b[0m\u001b[0;34m\u001b[0m\u001b[0m\n\u001b[1;32m    349\u001b[0m         \u001b[0;32mreturn\u001b[0m \u001b[0mself\u001b[0m\u001b[0;34m\u001b[0m\u001b[0;34m\u001b[0m\u001b[0m\n",
            "\u001b[0;32m/usr/local/lib/python3.6/dist-packages/sklearn/preprocessing/_encoders.py\u001b[0m in \u001b[0;36m_fit\u001b[0;34m(self, X, handle_unknown)\u001b[0m\n\u001b[1;32m     86\u001b[0m                 \u001b[0mcats\u001b[0m \u001b[0;34m=\u001b[0m \u001b[0m_encode\u001b[0m\u001b[0;34m(\u001b[0m\u001b[0mXi\u001b[0m\u001b[0;34m)\u001b[0m\u001b[0;34m\u001b[0m\u001b[0;34m\u001b[0m\u001b[0m\n\u001b[1;32m     87\u001b[0m             \u001b[0;32melse\u001b[0m\u001b[0;34m:\u001b[0m\u001b[0;34m\u001b[0m\u001b[0;34m\u001b[0m\u001b[0m\n\u001b[0;32m---> 88\u001b[0;31m                 \u001b[0mcats\u001b[0m \u001b[0;34m=\u001b[0m \u001b[0mnp\u001b[0m\u001b[0;34m.\u001b[0m\u001b[0marray\u001b[0m\u001b[0;34m(\u001b[0m\u001b[0mself\u001b[0m\u001b[0;34m.\u001b[0m\u001b[0mcategories\u001b[0m\u001b[0;34m[\u001b[0m\u001b[0mi\u001b[0m\u001b[0;34m]\u001b[0m\u001b[0;34m,\u001b[0m \u001b[0mdtype\u001b[0m\u001b[0;34m=\u001b[0m\u001b[0mXi\u001b[0m\u001b[0;34m.\u001b[0m\u001b[0mdtype\u001b[0m\u001b[0;34m)\u001b[0m\u001b[0;34m\u001b[0m\u001b[0;34m\u001b[0m\u001b[0m\n\u001b[0m\u001b[1;32m     89\u001b[0m                 \u001b[0;32mif\u001b[0m \u001b[0mXi\u001b[0m\u001b[0;34m.\u001b[0m\u001b[0mdtype\u001b[0m \u001b[0;34m!=\u001b[0m \u001b[0mobject\u001b[0m\u001b[0;34m:\u001b[0m\u001b[0;34m\u001b[0m\u001b[0;34m\u001b[0m\u001b[0m\n\u001b[1;32m     90\u001b[0m                     \u001b[0;32mif\u001b[0m \u001b[0;32mnot\u001b[0m \u001b[0mnp\u001b[0m\u001b[0;34m.\u001b[0m\u001b[0mall\u001b[0m\u001b[0;34m(\u001b[0m\u001b[0mnp\u001b[0m\u001b[0;34m.\u001b[0m\u001b[0msort\u001b[0m\u001b[0;34m(\u001b[0m\u001b[0mcats\u001b[0m\u001b[0;34m)\u001b[0m \u001b[0;34m==\u001b[0m \u001b[0mcats\u001b[0m\u001b[0;34m)\u001b[0m\u001b[0;34m:\u001b[0m\u001b[0;34m\u001b[0m\u001b[0;34m\u001b[0m\u001b[0m\n",
            "\u001b[0;31mValueError\u001b[0m: could not convert string to float: 'sepallength'"
          ]
        }
      ]
    },
    {
      "cell_type": "markdown",
      "metadata": {
        "id": "7eK5tntCBght",
        "colab_type": "text"
      },
      "source": [
        "# Tasks"
      ]
    },
    {
      "cell_type": "markdown",
      "metadata": {
        "id": "_OHYX6hiBght",
        "colab_type": "text"
      },
      "source": [
        "To run benchmarks consistently (also across studies and tools), OpenML offers Tasks, which include specific train-test splits and other information."
      ]
    },
    {
      "cell_type": "markdown",
      "metadata": {
        "id": "DiWb8UdhBghu",
        "colab_type": "text"
      },
      "source": [
        "## List ALL the tasks"
      ]
    },
    {
      "cell_type": "code",
      "metadata": {
        "id": "HLx7yaEdEw3P",
        "colab_type": "code",
        "colab": {}
      },
      "source": [
        "from openml import tasks\n",
        "task_list = tasks.list_tasks()"
      ],
      "execution_count": 0,
      "outputs": []
    },
    {
      "cell_type": "code",
      "metadata": {
        "id": "NzM6kC66Bghu",
        "colab_type": "code",
        "colab": {
          "base_uri": "https://localhost:8080/",
          "height": 136
        },
        "outputId": "ed2ea5dd-2c2f-4004-d3f6-ac6cf9da61d9"
      },
      "source": [
        "tasks_all = pd.DataFrame(task_list).T\n",
        "print(\"First 5 of %s tasks:\" % len(tasks_all))\n",
        "print(tasks_all[:5][['tid','did','name','task_type','estimation_procedure']])"
      ],
      "execution_count": 54,
      "outputs": [
        {
          "output_type": "stream",
          "text": [
            "First 5 of 26363 tasks:\n",
            "  tid did        name                  task_type     estimation_procedure\n",
            "2   2   2      anneal  Supervised Classification  10-fold Crossvalidation\n",
            "3   3   3    kr-vs-kp  Supervised Classification  10-fold Crossvalidation\n",
            "4   4   4       labor  Supervised Classification  10-fold Crossvalidation\n",
            "5   5   5  arrhythmia  Supervised Classification  10-fold Crossvalidation\n",
            "6   6   6      letter  Supervised Classification  10-fold Crossvalidation\n"
          ],
          "name": "stdout"
        }
      ]
    },
    {
      "cell_type": "markdown",
      "metadata": {
        "id": "gkFvAzvwBghz",
        "colab_type": "text"
      },
      "source": [
        "## Download tasks"
      ]
    },
    {
      "cell_type": "code",
      "metadata": {
        "id": "mWnrHSrvBghz",
        "colab_type": "code",
        "colab": {
          "base_uri": "https://localhost:8080/",
          "height": 187
        },
        "outputId": "5adc5fcc-daa6-4513-c777-2e4f5e863256"
      },
      "source": [
        "task = tasks.get_task(10)\n",
        "print(task)"
      ],
      "execution_count": 55,
      "outputs": [
        {
          "output_type": "stream",
          "text": [
            "OpenML Classification Task\n",
            "==========================\n",
            "Task Type Description: https://www.openml.org/tt/1\n",
            "Task ID..............: 10\n",
            "Task URL.............: https://www.openml.org/t/10\n",
            "Estimation Procedure.: crossvalidation\n",
            "Evaluation Measure...: predictive_accuracy\n",
            "Target Feature.......: class\n",
            "# of Classes.........: 4\n",
            "Cost Matrix..........: Available\n"
          ],
          "name": "stdout"
        }
      ]
    },
    {
      "cell_type": "markdown",
      "metadata": {
        "id": "hh0hdetaBgh1",
        "colab_type": "text"
      },
      "source": [
        "# Runs"
      ]
    },
    {
      "cell_type": "markdown",
      "metadata": {
        "id": "EqZtCmheBgh2",
        "colab_type": "text"
      },
      "source": [
        "Run a scikit-learn classifier on the task (using the right splits)"
      ]
    },
    {
      "cell_type": "code",
      "metadata": {
        "id": "hz7il_EpFfkV",
        "colab_type": "code",
        "colab": {}
      },
      "source": [
        "import openml\n",
        "openml.runs.run_model_on_task"
      ],
      "execution_count": 0,
      "outputs": []
    },
    {
      "cell_type": "code",
      "metadata": {
        "id": "HIY3jxDqBgh2",
        "colab_type": "code",
        "colab": {
          "base_uri": "https://localhost:8080/",
          "height": 358
        },
        "outputId": "50de366e-75af-4ddd-f4a7-3f473c3dfd05"
      },
      "source": [
        "from openml.runs import run_model_on_task\n",
        "\n",
        "clf = ensemble.RandomForestClassifier()\n",
        "run = run_model_on_task(task, clf)\n",
        "print(\"RandomForest has run on the task.\")"
      ],
      "execution_count": 58,
      "outputs": [
        {
          "output_type": "error",
          "ename": "OpenMLServerException",
          "evalue": "ignored",
          "traceback": [
            "\u001b[0;31m---------------------------------------------------------------------------\u001b[0m",
            "\u001b[0;31mOpenMLServerException\u001b[0m                     Traceback (most recent call last)",
            "\u001b[0;32m<ipython-input-58-4f8a2f5c2e48>\u001b[0m in \u001b[0;36m<module>\u001b[0;34m()\u001b[0m\n\u001b[1;32m      2\u001b[0m \u001b[0;34m\u001b[0m\u001b[0m\n\u001b[1;32m      3\u001b[0m \u001b[0mclf\u001b[0m \u001b[0;34m=\u001b[0m \u001b[0mensemble\u001b[0m\u001b[0;34m.\u001b[0m\u001b[0mRandomForestClassifier\u001b[0m\u001b[0;34m(\u001b[0m\u001b[0;34m)\u001b[0m\u001b[0;34m\u001b[0m\u001b[0;34m\u001b[0m\u001b[0m\n\u001b[0;32m----> 4\u001b[0;31m \u001b[0mrun\u001b[0m \u001b[0;34m=\u001b[0m \u001b[0mrun_model_on_task\u001b[0m\u001b[0;34m(\u001b[0m\u001b[0mtask\u001b[0m\u001b[0;34m,\u001b[0m \u001b[0mclf\u001b[0m\u001b[0;34m)\u001b[0m\u001b[0;34m\u001b[0m\u001b[0;34m\u001b[0m\u001b[0m\n\u001b[0m\u001b[1;32m      5\u001b[0m \u001b[0mprint\u001b[0m\u001b[0;34m(\u001b[0m\u001b[0;34m\"RandomForest has run on the task.\"\u001b[0m\u001b[0;34m)\u001b[0m\u001b[0;34m\u001b[0m\u001b[0;34m\u001b[0m\u001b[0m\n",
            "\u001b[0;32m/usr/local/lib/python3.6/dist-packages/openml/runs/functions.py\u001b[0m in \u001b[0;36mrun_model_on_task\u001b[0;34m(model, task, avoid_duplicate_runs, flow_tags, seed, add_local_measures, upload_flow, return_flow)\u001b[0m\n\u001b[1;32m    106\u001b[0m         \u001b[0mseed\u001b[0m\u001b[0;34m=\u001b[0m\u001b[0mseed\u001b[0m\u001b[0;34m,\u001b[0m\u001b[0;34m\u001b[0m\u001b[0;34m\u001b[0m\u001b[0m\n\u001b[1;32m    107\u001b[0m         \u001b[0madd_local_measures\u001b[0m\u001b[0;34m=\u001b[0m\u001b[0madd_local_measures\u001b[0m\u001b[0;34m,\u001b[0m\u001b[0;34m\u001b[0m\u001b[0;34m\u001b[0m\u001b[0m\n\u001b[0;32m--> 108\u001b[0;31m         \u001b[0mupload_flow\u001b[0m\u001b[0;34m=\u001b[0m\u001b[0mupload_flow\u001b[0m\u001b[0;34m,\u001b[0m\u001b[0;34m\u001b[0m\u001b[0;34m\u001b[0m\u001b[0m\n\u001b[0m\u001b[1;32m    109\u001b[0m     )\n\u001b[1;32m    110\u001b[0m     \u001b[0;32mif\u001b[0m \u001b[0mreturn_flow\u001b[0m\u001b[0;34m:\u001b[0m\u001b[0;34m\u001b[0m\u001b[0;34m\u001b[0m\u001b[0m\n",
            "\u001b[0;32m/usr/local/lib/python3.6/dist-packages/openml/runs/functions.py\u001b[0m in \u001b[0;36mrun_flow_on_task\u001b[0;34m(flow, task, avoid_duplicate_runs, flow_tags, seed, add_local_measures, upload_flow)\u001b[0m\n\u001b[1;32m    182\u001b[0m     \u001b[0mflow_id\u001b[0m \u001b[0;34m=\u001b[0m \u001b[0;32mNone\u001b[0m\u001b[0;34m\u001b[0m\u001b[0;34m\u001b[0m\u001b[0m\n\u001b[1;32m    183\u001b[0m     \u001b[0;32mif\u001b[0m \u001b[0mupload_flow\u001b[0m \u001b[0;32mor\u001b[0m \u001b[0mavoid_duplicate_runs\u001b[0m\u001b[0;34m:\u001b[0m\u001b[0;34m\u001b[0m\u001b[0;34m\u001b[0m\u001b[0m\n\u001b[0;32m--> 184\u001b[0;31m         \u001b[0mflow_id\u001b[0m \u001b[0;34m=\u001b[0m \u001b[0mflow_exists\u001b[0m\u001b[0;34m(\u001b[0m\u001b[0mflow\u001b[0m\u001b[0;34m.\u001b[0m\u001b[0mname\u001b[0m\u001b[0;34m,\u001b[0m \u001b[0mflow\u001b[0m\u001b[0;34m.\u001b[0m\u001b[0mexternal_version\u001b[0m\u001b[0;34m)\u001b[0m\u001b[0;34m\u001b[0m\u001b[0;34m\u001b[0m\u001b[0m\n\u001b[0m\u001b[1;32m    185\u001b[0m         \u001b[0;32mif\u001b[0m \u001b[0misinstance\u001b[0m\u001b[0;34m(\u001b[0m\u001b[0mflow\u001b[0m\u001b[0;34m.\u001b[0m\u001b[0mflow_id\u001b[0m\u001b[0;34m,\u001b[0m \u001b[0mint\u001b[0m\u001b[0;34m)\u001b[0m \u001b[0;32mand\u001b[0m \u001b[0mflow_id\u001b[0m \u001b[0;34m!=\u001b[0m \u001b[0mflow\u001b[0m\u001b[0;34m.\u001b[0m\u001b[0mflow_id\u001b[0m\u001b[0;34m:\u001b[0m\u001b[0;34m\u001b[0m\u001b[0;34m\u001b[0m\u001b[0m\n\u001b[1;32m    186\u001b[0m             \u001b[0;32mif\u001b[0m \u001b[0mflow_id\u001b[0m\u001b[0;34m:\u001b[0m\u001b[0;34m\u001b[0m\u001b[0;34m\u001b[0m\u001b[0m\n",
            "\u001b[0;32m/usr/local/lib/python3.6/dist-packages/openml/flows/functions.py\u001b[0m in \u001b[0;36mflow_exists\u001b[0;34m(name, external_version)\u001b[0m\n\u001b[1;32m    260\u001b[0m         \u001b[0;34m\"flow/exists\"\u001b[0m\u001b[0;34m,\u001b[0m\u001b[0;34m\u001b[0m\u001b[0;34m\u001b[0m\u001b[0m\n\u001b[1;32m    261\u001b[0m         \u001b[0;34m'post'\u001b[0m\u001b[0;34m,\u001b[0m\u001b[0;34m\u001b[0m\u001b[0;34m\u001b[0m\u001b[0m\n\u001b[0;32m--> 262\u001b[0;31m         \u001b[0mdata\u001b[0m\u001b[0;34m=\u001b[0m\u001b[0;34m{\u001b[0m\u001b[0;34m'name'\u001b[0m\u001b[0;34m:\u001b[0m \u001b[0mname\u001b[0m\u001b[0;34m,\u001b[0m \u001b[0;34m'external_version'\u001b[0m\u001b[0;34m:\u001b[0m \u001b[0mexternal_version\u001b[0m\u001b[0;34m}\u001b[0m\u001b[0;34m,\u001b[0m\u001b[0;34m\u001b[0m\u001b[0;34m\u001b[0m\u001b[0m\n\u001b[0m\u001b[1;32m    263\u001b[0m     )\n\u001b[1;32m    264\u001b[0m \u001b[0;34m\u001b[0m\u001b[0m\n",
            "\u001b[0;32m/usr/local/lib/python3.6/dist-packages/openml/_api_calls.py\u001b[0m in \u001b[0;36m_perform_api_call\u001b[0;34m(call, request_method, data, file_elements)\u001b[0m\n\u001b[1;32m     52\u001b[0m                              'are present')\n\u001b[1;32m     53\u001b[0m         \u001b[0;32mreturn\u001b[0m \u001b[0m_read_url_files\u001b[0m\u001b[0;34m(\u001b[0m\u001b[0murl\u001b[0m\u001b[0;34m,\u001b[0m \u001b[0mdata\u001b[0m\u001b[0;34m=\u001b[0m\u001b[0mdata\u001b[0m\u001b[0;34m,\u001b[0m \u001b[0mfile_elements\u001b[0m\u001b[0;34m=\u001b[0m\u001b[0mfile_elements\u001b[0m\u001b[0;34m)\u001b[0m\u001b[0;34m\u001b[0m\u001b[0;34m\u001b[0m\u001b[0m\n\u001b[0;32m---> 54\u001b[0;31m     \u001b[0;32mreturn\u001b[0m \u001b[0m_read_url\u001b[0m\u001b[0;34m(\u001b[0m\u001b[0murl\u001b[0m\u001b[0;34m,\u001b[0m \u001b[0mrequest_method\u001b[0m\u001b[0;34m,\u001b[0m \u001b[0mdata\u001b[0m\u001b[0;34m)\u001b[0m\u001b[0;34m\u001b[0m\u001b[0;34m\u001b[0m\u001b[0m\n\u001b[0m\u001b[1;32m     55\u001b[0m \u001b[0;34m\u001b[0m\u001b[0m\n\u001b[1;32m     56\u001b[0m \u001b[0;34m\u001b[0m\u001b[0m\n",
            "\u001b[0;32m/usr/local/lib/python3.6/dist-packages/openml/_api_calls.py\u001b[0m in \u001b[0;36m_read_url\u001b[0;34m(url, request_method, data)\u001b[0m\n\u001b[1;32m     99\u001b[0m     \u001b[0mresponse\u001b[0m \u001b[0;34m=\u001b[0m \u001b[0msend_request\u001b[0m\u001b[0;34m(\u001b[0m\u001b[0mrequest_method\u001b[0m\u001b[0;34m=\u001b[0m\u001b[0mrequest_method\u001b[0m\u001b[0;34m,\u001b[0m \u001b[0murl\u001b[0m\u001b[0;34m=\u001b[0m\u001b[0murl\u001b[0m\u001b[0;34m,\u001b[0m \u001b[0mdata\u001b[0m\u001b[0;34m=\u001b[0m\u001b[0mdata\u001b[0m\u001b[0;34m)\u001b[0m\u001b[0;34m\u001b[0m\u001b[0;34m\u001b[0m\u001b[0m\n\u001b[1;32m    100\u001b[0m     \u001b[0;32mif\u001b[0m \u001b[0mresponse\u001b[0m\u001b[0;34m.\u001b[0m\u001b[0mstatus_code\u001b[0m \u001b[0;34m!=\u001b[0m \u001b[0;36m200\u001b[0m\u001b[0;34m:\u001b[0m\u001b[0;34m\u001b[0m\u001b[0;34m\u001b[0m\u001b[0m\n\u001b[0;32m--> 101\u001b[0;31m         \u001b[0;32mraise\u001b[0m \u001b[0m_parse_server_exception\u001b[0m\u001b[0;34m(\u001b[0m\u001b[0mresponse\u001b[0m\u001b[0;34m,\u001b[0m \u001b[0murl\u001b[0m\u001b[0;34m,\u001b[0m \u001b[0mfile_elements\u001b[0m\u001b[0;34m=\u001b[0m\u001b[0;32mNone\u001b[0m\u001b[0;34m)\u001b[0m\u001b[0;34m\u001b[0m\u001b[0;34m\u001b[0m\u001b[0m\n\u001b[0m\u001b[1;32m    102\u001b[0m     \u001b[0;32mif\u001b[0m \u001b[0;34m'Content-Encoding'\u001b[0m \u001b[0;32mnot\u001b[0m \u001b[0;32min\u001b[0m \u001b[0mresponse\u001b[0m\u001b[0;34m.\u001b[0m\u001b[0mheaders\u001b[0m \u001b[0;32mor\u001b[0m\u001b[0;31m \u001b[0m\u001b[0;31m\\\u001b[0m\u001b[0;34m\u001b[0m\u001b[0;34m\u001b[0m\u001b[0m\n\u001b[1;32m    103\u001b[0m             \u001b[0mresponse\u001b[0m\u001b[0;34m.\u001b[0m\u001b[0mheaders\u001b[0m\u001b[0;34m[\u001b[0m\u001b[0;34m'Content-Encoding'\u001b[0m\u001b[0;34m]\u001b[0m \u001b[0;34m!=\u001b[0m \u001b[0;34m'gzip'\u001b[0m\u001b[0;34m:\u001b[0m\u001b[0;34m\u001b[0m\u001b[0;34m\u001b[0m\u001b[0m\n",
            "\u001b[0;31mOpenMLServerException\u001b[0m: No authentication (Please provide API key for all requests other than HTTP GET) - None"
          ]
        }
      ]
    },
    {
      "cell_type": "markdown",
      "metadata": {
        "id": "lRmKGWssBgh4",
        "colab_type": "text"
      },
      "source": [
        "Upload the run to the OpenML server"
      ]
    },
    {
      "cell_type": "code",
      "metadata": {
        "id": "A2Gh16CfBgh4",
        "colab_type": "code",
        "colab": {},
        "outputId": "71bc3c87-2cfc-4439-8cd2-1ef2ba9eebac"
      },
      "source": [
        "import xmltodict\n",
        "\n",
        "return_code, response = run.publish()\n",
        "\n",
        "if(return_code == 200):\n",
        "    response_dict = xmltodict.parse(response)\n",
        "    run_id = response_dict['oml:upload_run']['oml:run_id']\n",
        "    print(\"Uploaded run with id %s\" % (run_id))\n",
        "    print(\"Check it at www.openml.org/r/%s\" % (run_id))"
      ],
      "execution_count": 0,
      "outputs": [
        {
          "output_type": "stream",
          "text": [
            "Uploaded run with id 538241\n",
            "Check it at www.openml.org/r/538241\n"
          ],
          "name": "stdout"
        }
      ]
    },
    {
      "cell_type": "markdown",
      "metadata": {
        "id": "no8ywhCEBgh6",
        "colab_type": "text"
      },
      "source": [
        "## TL;DR;\n",
        "You can easily run and share scikit-learn experiments on OpenML"
      ]
    },
    {
      "cell_type": "code",
      "metadata": {
        "scrolled": true,
        "id": "nxP6bofmBgh6",
        "colab_type": "code",
        "colab": {},
        "outputId": "eb33e8d0-7e23-4870-9bb3-8287be2b9960"
      },
      "source": [
        "from sklearn import tree\n",
        "from openml import tasks,runs\n",
        "task = tasks.get_task(14951)\n",
        "clf = tree.DecisionTreeClassifier()\n",
        "run = runs.run_task(task, clf)\n",
        "return_code, response = run.publish()\n",
        "\n",
        "# get the run id for reference\n",
        "import xmltodict\n",
        "if(return_code == 200):\n",
        "    response_dict = xmltodict.parse(response)\n",
        "    run_id = response_dict['oml:upload_run']['oml:run_id']\n",
        "    print(\"Uploaded run with id %s. Check it at www.openml.org/r/%s\" % (run_id,run_id))"
      ],
      "execution_count": 0,
      "outputs": [
        {
          "output_type": "stream",
          "text": [
            "4074\n",
            "Uploaded run with id 595118. Check it at www.openml.org/r/595118\n"
          ],
          "name": "stdout"
        }
      ]
    },
    {
      "cell_type": "markdown",
      "metadata": {
        "id": "_z1kbO2VBgh8",
        "colab_type": "text"
      },
      "source": [
        "## Challenge: Build the 'best' model on the Higgs dataset together\n",
        "* Check progress on: http://www.openml.org/t/52950"
      ]
    },
    {
      "cell_type": "code",
      "metadata": {
        "id": "opsemBUaBgh8",
        "colab_type": "code",
        "colab": {}
      },
      "source": [
        "from openml import tasks,runs\n",
        "from sklearn.pipeline import Pipeline\n",
        "from sklearn.neighbors import KNeighborsClassifier\n",
        "from sklearn.preprocessing import Imputer\n",
        "task = tasks.get_task(52950)\n",
        "estimator = Pipeline([(\"imputer\", Imputer(missing_values=0,\n",
        "                                          strategy=\"mean\",\n",
        "                                          axis=0)),\n",
        "                      (\"knn\", KNeighborsClassifier())])\n",
        "run = runs.run_task(task, estimator)\n",
        "return_code, response = run.publish()\n",
        "\n",
        "# get the run id for reference\n",
        "import xmltodict\n",
        "if(return_code == 200):\n",
        "    response_dict = xmltodict.parse(response)\n",
        "    run_id = response_dict['oml:upload_run']['oml:run_id']\n",
        "    print(\"Uploaded run with id %s. Check it at www.openml.org/r/%s\" % (run_id,run_id))"
      ],
      "execution_count": 0,
      "outputs": []
    },
    {
      "cell_type": "code",
      "metadata": {
        "id": "VLKIRYScBgh-",
        "colab_type": "code",
        "colab": {}
      },
      "source": [
        ""
      ],
      "execution_count": 0,
      "outputs": []
    }
  ]
}